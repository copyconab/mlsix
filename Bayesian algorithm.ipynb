{
 "cells": [
  {
   "cell_type": "code",
   "execution_count": 1,
   "metadata": {},
   "outputs": [],
   "source": [
    "import numpy as np\n",
    "import pandas as pd"
   ]
  },
  {
   "cell_type": "code",
   "execution_count": 2,
   "metadata": {},
   "outputs": [],
   "source": [
    "df=pd.read_csv('PlayTennis.csv')"
   ]
  },
  {
   "cell_type": "code",
   "execution_count": 3,
   "metadata": {},
   "outputs": [],
   "source": [
    "Cattribute=df.keys()[-1]"
   ]
  },
  {
   "cell_type": "code",
   "execution_count": 4,
   "metadata": {},
   "outputs": [],
   "source": [
    "Cvalues=df[Cattribute].unique()"
   ]
  },
  {
   "cell_type": "code",
   "execution_count": 5,
   "metadata": {},
   "outputs": [],
   "source": [
    "Pclass={}\n",
    "for value in Cvalues:\n",
    "    Pclass[value]=df[Cattribute][df[Cattribute]==value].count()/len(df)"
   ]
  },
  {
   "cell_type": "code",
   "execution_count": 6,
   "metadata": {},
   "outputs": [],
   "source": [
    "finalProb={}\n",
    "for eachAtt in df.keys()[:-1]:\n",
    "    finalProb[eachAtt]={}\n",
    "    for eachPos in df[eachAtt].unique():\n",
    "        finalProb[eachAtt][eachPos]={}\n",
    "        for eachValue in Cvalues:\n",
    "            finalProb[eachAtt][eachPos][eachValue]=df[eachAtt][df[eachAtt]==eachPos][df[Cattribute]==eachValue].count() \\\n",
    "            /(df[eachAtt][df[Cattribute]==eachValue].count())"
   ]
  },
  {
   "cell_type": "code",
   "execution_count": 7,
   "metadata": {},
   "outputs": [
    {
     "data": {
      "text/plain": [
       "{'Outlook': {'Sunny': {'No': 0.6, 'Yes': 0.2222222222222222},\n",
       "  'Overcast': {'No': 0.0, 'Yes': 0.4444444444444444},\n",
       "  'Rain': {'No': 0.4, 'Yes': 0.3333333333333333}},\n",
       " 'Temperature': {'Hot': {'No': 0.4, 'Yes': 0.2222222222222222},\n",
       "  'Mild': {'No': 0.4, 'Yes': 0.4444444444444444},\n",
       "  'Cool': {'No': 0.2, 'Yes': 0.3333333333333333}},\n",
       " 'Humidity': {'High': {'No': 0.8, 'Yes': 0.3333333333333333},\n",
       "  'Normal': {'No': 0.2, 'Yes': 0.6666666666666666}},\n",
       " 'Wind': {'Weak': {'No': 0.4, 'Yes': 0.6666666666666666},\n",
       "  'Strong': {'No': 0.6, 'Yes': 0.3333333333333333}}}"
      ]
     },
     "execution_count": 7,
     "metadata": {},
     "output_type": "execute_result"
    }
   ],
   "source": [
    "finalProb"
   ]
  },
  {
   "cell_type": "code",
   "execution_count": 8,
   "metadata": {},
   "outputs": [],
   "source": [
    "df2=pd.read_csv('test_data.csv')"
   ]
  },
  {
   "cell_type": "code",
   "execution_count": 9,
   "metadata": {},
   "outputs": [],
   "source": [
    "probyn={}\n",
    "for eachvalue in Cvalues:\n",
    "    prob=1\n",
    "    for eachattr in df2.keys()[:-1]:    \n",
    "        prob*=finalProb[eachattr][df2.iloc[3][eachattr]][eachvalue]\n",
    "    prob=prob*Pclass[eachvalue]\n",
    "    probyn[eachvalue]=prob"
   ]
  },
  {
   "cell_type": "code",
   "execution_count": 10,
   "metadata": {},
   "outputs": [
    {
     "data": {
      "text/plain": [
       "{'No': 0.02742857142857143, 'Yes': 0.014109347442680773}"
      ]
     },
     "execution_count": 10,
     "metadata": {},
     "output_type": "execute_result"
    }
   ],
   "source": [
    "probyn"
   ]
  },
  {
   "cell_type": "code",
   "execution_count": null,
   "metadata": {},
   "outputs": [],
   "source": []
  }
 ],
 "metadata": {
  "kernelspec": {
   "display_name": "Python 3",
   "language": "python",
   "name": "python3"
  },
  "language_info": {
   "codemirror_mode": {
    "name": "ipython",
    "version": 3
   },
   "file_extension": ".py",
   "mimetype": "text/x-python",
   "name": "python",
   "nbconvert_exporter": "python",
   "pygments_lexer": "ipython3",
   "version": "3.8.3"
  }
 },
 "nbformat": 4,
 "nbformat_minor": 5
}
